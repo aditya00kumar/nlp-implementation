{
  "nbformat": 4,
  "nbformat_minor": 0,
  "metadata": {
    "colab": {
      "name": "Optimizers_Pytorch.ipynb",
      "version": "0.3.2",
      "provenance": [],
      "collapsed_sections": [],
      "include_colab_link": true
    },
    "language_info": {
      "codemirror_mode": {
        "name": "ipython",
        "version": 3
      },
      "file_extension": ".py",
      "mimetype": "text/x-python",
      "name": "python",
      "nbconvert_exporter": "python",
      "pygments_lexer": "ipython3",
      "version": "3.7.1"
    },
    "kernelspec": {
      "display_name": "Python 3",
      "language": "python",
      "name": "python3"
    },
    "accelerator": "GPU"
  },
  "cells": [
    {
      "cell_type": "markdown",
      "metadata": {
        "id": "view-in-github",
        "colab_type": "text"
      },
      "source": [
        "<a href=\"https://colab.research.google.com/github/aditya00kumar/nlp-implementation/blob/master/Optimizers_Pytorch.ipynb\" target=\"_parent\"><img src=\"https://colab.research.google.com/assets/colab-badge.svg\" alt=\"Open In Colab\"/></a>"
      ]
    },
    {
      "cell_type": "markdown",
      "metadata": {
        "colab_type": "text",
        "id": "YJ5oWpaZj-gg"
      },
      "source": [
        "# Optimizers\n",
        "\n",
        "During the training process, the weights (model parameters) of our model change such that it minimizes the loss function, and make our predictions as correct as possible. But how exactly do you do that? How do you change the parameters of your model, by how much, and when?\n",
        "\n",
        "This is where optimizers come in. They tie together the loss function and model parameters by updating the model in response to the output of the loss function. In simpler terms, optimizers shape and mold your model into its most accurate possible form by futzing with the weights. The loss function is the guide to the terrain, telling the optimizer when it’s moving in the right or wrong direction."
      ]
    },
    {
      "cell_type": "markdown",
      "metadata": {
        "colab_type": "text",
        "id": "DJEVd_5Lj-gh"
      },
      "source": [
        "In this tutorial, we shall explore various optimizers and their performance on a simple classification task on CIFAR10 dataset"
      ]
    },
    {
      "cell_type": "code",
      "metadata": {
        "colab_type": "code",
        "id": "11-0srasj-gi",
        "outputId": "45816d60-dbf5-4d15-cf00-6f263be79cda",
        "colab": {
          "base_uri": "https://localhost:8080/",
          "height": 35
        }
      },
      "source": [
        "# Basic imports\n",
        "\n",
        "import numpy as np\n",
        "import matplotlib.pyplot as plt\n",
        "\n",
        "\n",
        "import torch\n",
        "import torch.nn as nn\n",
        "import torch.nn.functional as F\n",
        "import torchvision\n",
        "import torchvision.transforms as transforms\n",
        "import torch.optim as optim\n",
        "\n",
        "\n",
        "device = torch.device(\"cuda:0\" if torch.cuda.is_available() else \"cpu\")\n",
        "\n",
        "# Assuming that we are on a CUDA machine, this should print a CUDA device:\n",
        "\n",
        "print(device)\n",
        "\n"
      ],
      "execution_count": 1,
      "outputs": [
        {
          "output_type": "stream",
          "text": [
            "cuda:0\n"
          ],
          "name": "stdout"
        }
      ]
    },
    {
      "cell_type": "markdown",
      "metadata": {
        "colab_type": "text",
        "id": "N6MhgRcJ-qCy"
      },
      "source": [
        "### Dataloader\n",
        "For efficient training, we need to make sure that our code is efficient enough to send data from RAM to GPU and vice-versa. \n",
        "For some standard datasets like MNIST, CIFAR-10 etc., we already have some well structured dataloaders. In this tutorial, we will be using the CIFAR-10 dataloader.\n",
        "\n",
        "For more you can visit the following links:\n",
        "- Existing dataloaders - https://pytorch.org/docs/stable/data.html_\n",
        "- How to write dataloaders for your custom dataset - https://pytorch.org/tutorials/beginner/data_loading_tutorial.html_"
      ]
    },
    {
      "cell_type": "code",
      "metadata": {
        "colab_type": "code",
        "id": "VmKIr21Pj-gk",
        "outputId": "0090affd-480e-4cc7-fea6-0509fc6f12a9",
        "colab": {
          "base_uri": "https://localhost:8080/",
          "height": 53
        }
      },
      "source": [
        "transform = transforms.Compose(\n",
        "    [transforms.ToTensor(),\n",
        "     transforms.Normalize((0.5, 0.5, 0.5), (0.5, 0.5, 0.5))])\n",
        "\n",
        "trainset = torchvision.datasets.CIFAR10(root='./data', train=True,\n",
        "                                        download=True, transform=transform)\n",
        "trainloader = torch.utils.data.DataLoader(trainset, batch_size=4,\n",
        "                                          shuffle=True, num_workers=2)\n",
        "\n",
        "testset = torchvision.datasets.CIFAR10(root='./data', train=False,\n",
        "                                       download=True, transform=transform)\n",
        "testloader = torch.utils.data.DataLoader(testset, batch_size=4,\n",
        "                                         shuffle=False, num_workers=2)\n",
        "\n",
        "classes = ('plane', 'car', 'bird', 'cat',\n",
        "           'deer', 'dog', 'frog', 'horse', 'ship', 'truck')"
      ],
      "execution_count": 2,
      "outputs": [
        {
          "output_type": "stream",
          "text": [
            "Files already downloaded and verified\n",
            "Files already downloaded and verified\n"
          ],
          "name": "stdout"
        }
      ]
    },
    {
      "cell_type": "markdown",
      "metadata": {
        "colab_type": "text",
        "id": "6Bku4hvA-wk6"
      },
      "source": [
        " Let us show some of the training images, for fun."
      ]
    },
    {
      "cell_type": "code",
      "metadata": {
        "colab_type": "code",
        "id": "nzij-nihj-go",
        "colab": {}
      },
      "source": [
        "def imshow(img):\n",
        "    img = img / 2 + 0.5     # unnormalize\n",
        "    npimg = img.numpy()\n",
        "    plt.imshow(np.transpose(npimg, (1, 2, 0)))\n",
        "    plt.show()"
      ],
      "execution_count": 0,
      "outputs": []
    },
    {
      "cell_type": "code",
      "metadata": {
        "colab_type": "code",
        "id": "Icq4JE22j-gq",
        "outputId": "df981a60-df8b-4553-bc41-fdd39499aa68",
        "colab": {
          "base_uri": "https://localhost:8080/",
          "height": 157
        }
      },
      "source": [
        "dataiter = iter(trainloader)\n",
        "images, labels = dataiter.next()\n",
        "\n",
        "# show images\n",
        "imshow(torchvision.utils.make_grid(images))\n",
        "# print labels\n",
        "print(' '.join('%5s' % classes[labels[j]] for j in range(4)))"
      ],
      "execution_count": 4,
      "outputs": [
        {
          "output_type": "display_data",
          "data": {
            "image/png": "[encoded data removed]",
            "text/plain": [
              "<Figure size 432x288 with 1 Axes>"
            ]
          },
          "metadata": {
            "tags": []
          }
        },
        {
          "output_type": "stream",
          "text": [
            " frog horse  ship  bird\n"
          ],
          "name": "stdout"
        }
      ]
    },
    {
      "cell_type": "markdown",
      "metadata": {
        "colab_type": "text",
        "id": "okxRBmN1-04d"
      },
      "source": [
        "###  Define a Convolutional Neural Network"
      ]
    },
    {
      "cell_type": "code",
      "metadata": {
        "id": "ib33Tof1BUg-",
        "colab_type": "code",
        "colab": {
          "base_uri": "https://localhost:8080/",
          "height": 35
        },
        "outputId": "9713dc30-92dc-474a-ab1f-2ab7b650cfad"
      },
      "source": [
        "torch.cuda.device_count(), torch.backends.cudnn.enabled"
      ],
      "execution_count": 5,
      "outputs": [
        {
          "output_type": "execute_result",
          "data": {
            "text/plain": [
              "(1, True)"
            ]
          },
          "metadata": {
            "tags": []
          },
          "execution_count": 5
        }
      ]
    },
    {
      "cell_type": "code",
      "metadata": {
        "colab_type": "code",
        "id": "8b6LrR0Lj-gt",
        "colab": {}
      },
      "source": [
        "# Model definition:\n",
        "\n",
        "class Net(nn.Module):\n",
        "    def __init__(self):\n",
        "        super(Net, self).__init__()\n",
        "        self.conv1 = nn.Conv2d(3, 6, 5)\n",
        "        self.pool = nn.MaxPool2d(2, 2)\n",
        "        self.conv2 = nn.Conv2d(6, 16, 5)\n",
        "        self.fc1 = nn.Linear(16 * 5 * 5, 120)\n",
        "        self.fc2 = nn.Linear(120, 84)\n",
        "        self.fc3 = nn.Linear(84, 10)\n",
        "\n",
        "    def forward(self, x):\n",
        "        x = self.pool(F.relu(self.conv1(x)))\n",
        "        x = self.pool(F.relu(self.conv2(x)))\n",
        "        x = x.view(-1, 16 * 5 * 5)\n",
        "        x = F.relu(self.fc1(x))\n",
        "        x = F.relu(self.fc2(x))\n",
        "        x = self.fc3(x)\n",
        "        return x\n",
        "\n",
        "net = Net().to(device)"
      ],
      "execution_count": 0,
      "outputs": []
    },
    {
      "cell_type": "markdown",
      "metadata": {
        "colab_type": "text",
        "id": "buGQJYa0-5tK"
      },
      "source": [
        "### Define the loss function (cross-entropy loss)\n",
        "\n",
        "$$\\mathcal{L}(\\hat{y}, y) = - \\sum_{i = 1}^{N} y_i log \\hat{y}_i$$"
      ]
    },
    {
      "cell_type": "code",
      "metadata": {
        "colab_type": "code",
        "id": "9h6Er0ZPj-gw",
        "colab": {}
      },
      "source": [
        "\n",
        "# We use Cross Entropy as our loss function in this classfication task\n",
        "criterion = nn.CrossEntropyLoss()"
      ],
      "execution_count": 0,
      "outputs": []
    },
    {
      "cell_type": "markdown",
      "metadata": {
        "colab_type": "text",
        "id": "ucm_4Gv8_9vQ"
      },
      "source": [
        "### The train loop"
      ]
    },
    {
      "cell_type": "code",
      "metadata": {
        "colab_type": "code",
        "id": "iM3pyuAtj-gy",
        "colab": {}
      },
      "source": [
        "def train():\n",
        "    \n",
        "    loss_values = []\n",
        "    for epoch in range(10):  # loop over the dataset multiple times\n",
        "\n",
        "        running_loss = 0.0\n",
        "        for i, data in enumerate(trainloader, 0):\n",
        "            # get the inputs; data is a list of [inputs, labels]\n",
        "            inputs, labels = data[0].to(device), data[1].to(device)\n",
        "\n",
        "            # zero the parameter gradients\n",
        "            optimizer.zero_grad()\n",
        "\n",
        "            # forward + backward + optimize\n",
        "            outputs = net(inputs)\n",
        "            loss = criterion(outputs, labels)\n",
        "            loss.backward()\n",
        "            optimizer.step()\n",
        "\n",
        "            # print statistics\n",
        "            running_loss += loss.item()\n",
        "            \n",
        "            if i % 2000 == 1999:    # print every 2000 mini-batches\n",
        "                print('[%d, %5d] loss: %.3f' %\n",
        "                      (epoch + 1, i + 1, running_loss / 2000))\n",
        "                running_loss = 0.0\n",
        "                \n",
        "            \n",
        "        loss_values.append(running_loss / len(trainloader))\n",
        "       \n",
        "    #plt.plot(loss_values)\n",
        "    correct = 0\n",
        "    total = 0\n",
        "    with torch.no_grad():\n",
        "        for data in testloader:\n",
        "            images, labels = data[0].to(device), data[1].to(device)\n",
        "            outputs = net(images)\n",
        "            _, predicted = torch.max(outputs.data, 1)\n",
        "            total += labels.size(0)\n",
        "            correct += (predicted == labels).sum().item()\n",
        "\n",
        "    print('Accuracy of the network on the 10000 test images: %d %%' % (\n",
        "        100 * correct / total))\n",
        "    return loss_values\n",
        "\n",
        "    \n",
        "    "
      ],
      "execution_count": 0,
      "outputs": []
    },
    {
      "cell_type": "markdown",
      "metadata": {
        "colab_type": "text",
        "id": "EL_dBevMj-g0"
      },
      "source": [
        "## SGD without momentum"
      ]
    },
    {
      "cell_type": "markdown",
      "metadata": {
        "colab_type": "text",
        "id": "rAH-RIvEj-g0"
      },
      "source": [
        "Stochastic gradient descent (SGD) in contrast performs a parameter update for each training example x<sup>(i)</sup> and label y<sup>(i)</sup> as follows:\n",
        "![image.png](attachment:image.png)\n",
        "\n",
        "Hence it is usually faster and can be used to learn online\n"
      ]
    },
    {
      "cell_type": "code",
      "metadata": {
        "colab_type": "code",
        "id": "jvG5BqCoj-g1",
        "outputId": "6072ead4-f095-407d-c3ba-8bf04a2f98a9",
        "scrolled": true,
        "colab": {
          "base_uri": "https://localhost:8080/",
          "height": 1000
        }
      },
      "source": [
        "optimizer = torch.optim.SGD(net.parameters(), lr = 0.0001, momentum = 0)\n",
        "losses_sgd_01 = train()"
      ],
      "execution_count": 9,
      "outputs": [
        {
          "output_type": "stream",
          "text": [
            "[1,  2000] loss: 2.305\n",
            "[1,  4000] loss: 2.304\n",
            "[1,  6000] loss: 2.303\n",
            "[1,  8000] loss: 2.304\n",
            "[1, 10000] loss: 2.303\n",
            "[1, 12000] loss: 2.304\n",
            "[2,  2000] loss: 2.304\n",
            "[2,  4000] loss: 2.303\n",
            "[2,  6000] loss: 2.303\n",
            "[2,  8000] loss: 2.303\n",
            "[2, 10000] loss: 2.303\n",
            "[2, 12000] loss: 2.303\n",
            "[3,  2000] loss: 2.303\n",
            "[3,  4000] loss: 2.302\n",
            "[3,  6000] loss: 2.302\n",
            "[3,  8000] loss: 2.302\n",
            "[3, 10000] loss: 2.302\n",
            "[3, 12000] loss: 2.301\n",
            "[4,  2000] loss: 2.302\n",
            "[4,  4000] loss: 2.302\n",
            "[4,  6000] loss: 2.301\n",
            "[4,  8000] loss: 2.301\n",
            "[4, 10000] loss: 2.301\n",
            "[4, 12000] loss: 2.301\n",
            "[5,  2000] loss: 2.300\n",
            "[5,  4000] loss: 2.300\n",
            "[5,  6000] loss: 2.300\n",
            "[5,  8000] loss: 2.300\n",
            "[5, 10000] loss: 2.300\n",
            "[5, 12000] loss: 2.300\n",
            "[6,  2000] loss: 2.299\n",
            "[6,  4000] loss: 2.299\n",
            "[6,  6000] loss: 2.299\n",
            "[6,  8000] loss: 2.299\n",
            "[6, 10000] loss: 2.298\n",
            "[6, 12000] loss: 2.298\n",
            "[7,  2000] loss: 2.298\n",
            "[7,  4000] loss: 2.298\n",
            "[7,  6000] loss: 2.297\n",
            "[7,  8000] loss: 2.297\n",
            "[7, 10000] loss: 2.296\n",
            "[7, 12000] loss: 2.296\n",
            "[8,  2000] loss: 2.296\n",
            "[8,  4000] loss: 2.295\n",
            "[8,  6000] loss: 2.294\n",
            "[8,  8000] loss: 2.293\n",
            "[8, 10000] loss: 2.293\n",
            "[8, 12000] loss: 2.292\n",
            "[9,  2000] loss: 2.291\n",
            "[9,  4000] loss: 2.290\n",
            "[9,  6000] loss: 2.289\n",
            "[9,  8000] loss: 2.288\n",
            "[9, 10000] loss: 2.288\n",
            "[9, 12000] loss: 2.284\n",
            "[10,  2000] loss: 2.283\n",
            "[10,  4000] loss: 2.280\n",
            "[10,  6000] loss: 2.279\n",
            "[10,  8000] loss: 2.276\n",
            "[10, 10000] loss: 2.272\n",
            "[10, 12000] loss: 2.269\n",
            "Accuracy of the network on the 10000 test images: 19 %\n"
          ],
          "name": "stdout"
        }
      ]
    },
    {
      "cell_type": "code",
      "metadata": {
        "colab_type": "code",
        "id": "fq3KdOe2j-g3",
        "outputId": "2d8b3a8d-d3e8-485d-c928-b3531e29a713",
        "colab": {
          "base_uri": "https://localhost:8080/",
          "height": 287
        }
      },
      "source": [
        "plt.plot(losses_sgd_01)"
      ],
      "execution_count": 10,
      "outputs": [
        {
          "output_type": "execute_result",
          "data": {
            "text/plain": [
              "[<matplotlib.lines.Line2D at 0x7f27857c4278>]"
            ]
          },
          "metadata": {
            "tags": []
          },
          "execution_count": 10
        },
        {
          "output_type": "display_data",
          "data": {
            "image/png": "[encoded data removed]",
            "text/plain": [
              "<Figure size 432x288 with 1 Axes>"
            ]
          },
          "metadata": {
            "tags": []
          }
        }
      ]
    },
    {
      "cell_type": "markdown",
      "metadata": {
        "colab_type": "text",
        "id": "Tq6yIabvj-g5"
      },
      "source": [
        "## SGD with momentum"
      ]
    },
    {
      "cell_type": "markdown",
      "metadata": {
        "colab_type": "text",
        "id": "WULFABSEj-g6"
      },
      "source": [
        "SGD has trouble navigating ravines, i.e. areas where the surface curves much more steeply in one dimension than in another, which are common around local optima. In these scenarios, SGD oscillates across the slopes of the ravine while only making hesitant progress along the bottom towards the local optimum.\n",
        "![image.png](attachment:image.png)"
      ]
    },
    {
      "cell_type": "markdown",
      "metadata": {
        "colab_type": "text",
        "id": "7ugs5gWyj-g6"
      },
      "source": [
        "Momentum [5] is a method that helps accelerate SGD in the relevant direction and dampens oscillations as can be seen in Image 3. It does this by adding a fraction γ of the update vector of the past time step to the current update vector:\n",
        "![image.png](attachment:image.png)"
      ]
    },
    {
      "cell_type": "markdown",
      "metadata": {
        "colab_type": "text",
        "id": "WNU3WvDvj-g7"
      },
      "source": [
        "Essentially, when using momentum, we push a ball down a hill. The ball accumulates momentum as it rolls downhill, becoming faster and faster on the way (until it reaches its terminal velocity if there is air resistance, i.e. γ<1). The same thing happens to our parameter updates: The momentum term increases for dimensions whose gradients point in the same directions and reduces updates for dimensions whose gradients change directions. As a result, we gain faster convergence and reduced oscillation."
      ]
    },
    {
      "cell_type": "code",
      "metadata": {
        "colab_type": "code",
        "id": "GTQ_f9lzj-g8",
        "outputId": "09422caf-9f50-474a-94d3-28d353cdc4ec",
        "scrolled": true,
        "colab": {
          "base_uri": "https://localhost:8080/",
          "height": 1000
        }
      },
      "source": [
        "\n",
        "optimizer = torch.optim.SGD(net.parameters(), lr = 0.0001, momentum = 0.9)\n",
        "losses = train()"
      ],
      "execution_count": 11,
      "outputs": [
        {
          "output_type": "stream",
          "text": [
            "[1,  2000] loss: 2.233\n",
            "[1,  4000] loss: 2.125\n",
            "[1,  6000] loss: 2.062\n",
            "[1,  8000] loss: 2.025\n",
            "[1, 10000] loss: 1.983\n",
            "[1, 12000] loss: 1.940\n",
            "[2,  2000] loss: 1.890\n",
            "[2,  4000] loss: 1.834\n",
            "[2,  6000] loss: 1.801\n",
            "[2,  8000] loss: 1.749\n",
            "[2, 10000] loss: 1.707\n",
            "[2, 12000] loss: 1.687\n",
            "[3,  2000] loss: 1.651\n",
            "[3,  4000] loss: 1.598\n",
            "[3,  6000] loss: 1.590\n",
            "[3,  8000] loss: 1.563\n",
            "[3, 10000] loss: 1.527\n",
            "[3, 12000] loss: 1.531\n",
            "[4,  2000] loss: 1.496\n",
            "[4,  4000] loss: 1.494\n",
            "[4,  6000] loss: 1.478\n",
            "[4,  8000] loss: 1.461\n",
            "[4, 10000] loss: 1.467\n",
            "[4, 12000] loss: 1.450\n",
            "[5,  2000] loss: 1.413\n",
            "[5,  4000] loss: 1.419\n",
            "[5,  6000] loss: 1.387\n",
            "[5,  8000] loss: 1.396\n",
            "[5, 10000] loss: 1.395\n",
            "[5, 12000] loss: 1.374\n",
            "[6,  2000] loss: 1.355\n",
            "[6,  4000] loss: 1.352\n",
            "[6,  6000] loss: 1.322\n",
            "[6,  8000] loss: 1.330\n",
            "[6, 10000] loss: 1.341\n",
            "[6, 12000] loss: 1.296\n",
            "[7,  2000] loss: 1.294\n",
            "[7,  4000] loss: 1.268\n",
            "[7,  6000] loss: 1.270\n",
            "[7,  8000] loss: 1.265\n",
            "[7, 10000] loss: 1.279\n",
            "[7, 12000] loss: 1.280\n",
            "[8,  2000] loss: 1.247\n",
            "[8,  4000] loss: 1.238\n",
            "[8,  6000] loss: 1.238\n",
            "[8,  8000] loss: 1.225\n",
            "[8, 10000] loss: 1.207\n",
            "[8, 12000] loss: 1.200\n",
            "[9,  2000] loss: 1.199\n",
            "[9,  4000] loss: 1.181\n",
            "[9,  6000] loss: 1.164\n",
            "[9,  8000] loss: 1.163\n",
            "[9, 10000] loss: 1.184\n",
            "[9, 12000] loss: 1.198\n",
            "[10,  2000] loss: 1.146\n",
            "[10,  4000] loss: 1.148\n",
            "[10,  6000] loss: 1.135\n",
            "[10,  8000] loss: 1.143\n",
            "[10, 10000] loss: 1.154\n",
            "[10, 12000] loss: 1.128\n",
            "Accuracy of the network on the 10000 test images: 58 %\n"
          ],
          "name": "stdout"
        }
      ]
    },
    {
      "cell_type": "code",
      "metadata": {
        "colab_type": "code",
        "id": "O2tPFDCGj-g-",
        "outputId": "aebed326-dae8-4b53-afe6-089260b5e8fe",
        "colab": {
          "base_uri": "https://localhost:8080/",
          "height": 287
        }
      },
      "source": [
        "plt.plot(losses)"
      ],
      "execution_count": 12,
      "outputs": [
        {
          "output_type": "execute_result",
          "data": {
            "text/plain": [
              "[<matplotlib.lines.Line2D at 0x7f278586b8d0>]"
            ]
          },
          "metadata": {
            "tags": []
          },
          "execution_count": 12
        },
        {
          "output_type": "display_data",
          "data": {
            "image/png": "[encoded data removed]",
            "text/plain": [
              "<Figure size 432x288 with 1 Axes>"
            ]
          },
          "metadata": {
            "tags": []
          }
        }
      ]
    },
    {
      "cell_type": "markdown",
      "metadata": {
        "colab_type": "text",
        "id": "24uN3zkfj-hA"
      },
      "source": [
        "As we can see, the accuracy has improved when we use Momentum rather than using vanilla SGD"
      ]
    },
    {
      "cell_type": "markdown",
      "metadata": {
        "colab_type": "text",
        "id": "V7f1FTaVj-hB"
      },
      "source": [
        "## ADAM"
      ]
    },
    {
      "cell_type": "markdown",
      "metadata": {
        "colab_type": "text",
        "id": "83NAHlKIj-hB"
      },
      "source": [
        "Adaptive Moment Estimation (Adam) is another method that computes adaptive learning rates for each parameter. Whereas momentum can be seen as a ball running down a slope, Adam behaves like a heavy ball with friction, which thus prefers flat minima in the error surface"
      ]
    },
    {
      "cell_type": "code",
      "metadata": {
        "colab_type": "code",
        "id": "ckCe4uXoj-hC",
        "scrolled": true,
        "colab": {
          "base_uri": "https://localhost:8080/",
          "height": 1000
        },
        "outputId": "4c40043c-ed89-4c2b-8482-4a2a3ad542a7"
      },
      "source": [
        "optimizer = torch.optim.Adam(net.parameters(), lr = 0.0001)\n",
        "losses_adam_0001 = train()"
      ],
      "execution_count": 13,
      "outputs": [
        {
          "output_type": "stream",
          "text": [
            "[1,  2000] loss: 1.124\n",
            "[1,  4000] loss: 1.111\n",
            "[1,  6000] loss: 1.117\n",
            "[1,  8000] loss: 1.117\n",
            "[1, 10000] loss: 1.114\n",
            "[1, 12000] loss: 1.110\n",
            "[2,  2000] loss: 1.061\n",
            "[2,  4000] loss: 1.075\n",
            "[2,  6000] loss: 1.056\n",
            "[2,  8000] loss: 1.073\n",
            "[2, 10000] loss: 1.072\n",
            "[2, 12000] loss: 1.070\n",
            "[3,  2000] loss: 1.027\n",
            "[3,  4000] loss: 1.020\n",
            "[3,  6000] loss: 1.032\n",
            "[3,  8000] loss: 1.034\n",
            "[3, 10000] loss: 1.014\n",
            "[3, 12000] loss: 1.004\n",
            "[4,  2000] loss: 0.965\n",
            "[4,  4000] loss: 0.998\n",
            "[4,  6000] loss: 0.985\n",
            "[4,  8000] loss: 0.979\n",
            "[4, 10000] loss: 0.976\n",
            "[4, 12000] loss: 0.974\n",
            "[5,  2000] loss: 0.930\n",
            "[5,  4000] loss: 0.957\n",
            "[5,  6000] loss: 0.951\n",
            "[5,  8000] loss: 0.956\n",
            "[5, 10000] loss: 0.947\n",
            "[5, 12000] loss: 0.931\n",
            "[6,  2000] loss: 0.901\n",
            "[6,  4000] loss: 0.898\n",
            "[6,  6000] loss: 0.919\n",
            "[6,  8000] loss: 0.905\n",
            "[6, 10000] loss: 0.915\n",
            "[6, 12000] loss: 0.912\n",
            "[7,  2000] loss: 0.880\n",
            "[7,  4000] loss: 0.875\n",
            "[7,  6000] loss: 0.871\n",
            "[7,  8000] loss: 0.879\n",
            "[7, 10000] loss: 0.881\n",
            "[7, 12000] loss: 0.892\n",
            "[8,  2000] loss: 0.842\n",
            "[8,  4000] loss: 0.839\n",
            "[8,  6000] loss: 0.834\n",
            "[8,  8000] loss: 0.868\n",
            "[8, 10000] loss: 0.872\n",
            "[8, 12000] loss: 0.856\n",
            "[9,  2000] loss: 0.802\n",
            "[9,  4000] loss: 0.814\n",
            "[9,  6000] loss: 0.800\n",
            "[9,  8000] loss: 0.839\n",
            "[9, 10000] loss: 0.836\n",
            "[9, 12000] loss: 0.838\n",
            "[10,  2000] loss: 0.776\n",
            "[10,  4000] loss: 0.794\n",
            "[10,  6000] loss: 0.776\n",
            "[10,  8000] loss: 0.818\n",
            "[10, 10000] loss: 0.815\n",
            "[10, 12000] loss: 0.804\n",
            "Accuracy of the network on the 10000 test images: 64 %\n"
          ],
          "name": "stdout"
        }
      ]
    },
    {
      "cell_type": "code",
      "metadata": {
        "colab_type": "code",
        "id": "ypiZq72Mj-hF",
        "colab": {
          "base_uri": "https://localhost:8080/",
          "height": 287
        },
        "outputId": "46506ae9-0d6e-4812-9e8f-298d485b3bb4"
      },
      "source": [
        "plt.plot(losses_adam_0001)"
      ],
      "execution_count": 14,
      "outputs": [
        {
          "output_type": "execute_result",
          "data": {
            "text/plain": [
              "[<matplotlib.lines.Line2D at 0x7f2785802470>]"
            ]
          },
          "metadata": {
            "tags": []
          },
          "execution_count": 14
        },
        {
          "output_type": "display_data",
          "data": {
            "image/png": "[encoded data removed]",
            "text/plain": [
              "<Figure size 432x288 with 1 Axes>"
            ]
          },
          "metadata": {
            "tags": []
          }
        }
      ]
    },
    {
      "cell_type": "markdown",
      "metadata": {
        "colab_type": "text",
        "id": "5rPfAqZKj-hH"
      },
      "source": [
        "## ADAGRAD "
      ]
    },
    {
      "cell_type": "markdown",
      "metadata": {
        "colab_type": "text",
        "id": "IdSHJxYzj-hJ"
      },
      "source": [
        "Adagrad is an algorithm for gradient-based optimization that adapts the learning rate to the parameters by performing smaller updates (i.e. low learning rates) for parameters associated with frequently occurring features, and larger updates (i.e. high learning rates) for parameters associated with infrequent features. For this reason, it is well-suited for dealing with sparse data."
      ]
    },
    {
      "cell_type": "code",
      "metadata": {
        "colab_type": "code",
        "id": "RbueQZ-9j-hK",
        "scrolled": true,
        "colab": {
          "base_uri": "https://localhost:8080/",
          "height": 1000
        },
        "outputId": "522120db-7658-4d64-e561-8398e7bd6260"
      },
      "source": [
        "# losses_adagrad_0001 = train(optim.Adagrad,0.001)\n",
        "optimizer = torch.optim.Adagrad(net.parameters(), lr = 0.0001)\n",
        "losses_adagrad_0001 = train()"
      ],
      "execution_count": 15,
      "outputs": [
        {
          "output_type": "stream",
          "text": [
            "[1,  2000] loss: 0.714\n",
            "[1,  4000] loss: 0.702\n",
            "[1,  6000] loss: 0.702\n",
            "[1,  8000] loss: 0.712\n",
            "[1, 10000] loss: 0.698\n",
            "[1, 12000] loss: 0.713\n",
            "[2,  2000] loss: 0.700\n",
            "[2,  4000] loss: 0.691\n",
            "[2,  6000] loss: 0.699\n",
            "[2,  8000] loss: 0.693\n",
            "[2, 10000] loss: 0.696\n",
            "[2, 12000] loss: 0.713\n",
            "[3,  2000] loss: 0.711\n",
            "[3,  4000] loss: 0.696\n",
            "[3,  6000] loss: 0.686\n",
            "[3,  8000] loss: 0.689\n",
            "[3, 10000] loss: 0.713\n",
            "[3, 12000] loss: 0.677\n",
            "[4,  2000] loss: 0.713\n",
            "[4,  4000] loss: 0.700\n",
            "[4,  6000] loss: 0.685\n",
            "[4,  8000] loss: 0.695\n",
            "[4, 10000] loss: 0.678\n",
            "[4, 12000] loss: 0.682\n",
            "[5,  2000] loss: 0.686\n",
            "[5,  4000] loss: 0.679\n",
            "[5,  6000] loss: 0.699\n",
            "[5,  8000] loss: 0.709\n",
            "[5, 10000] loss: 0.699\n",
            "[5, 12000] loss: 0.679\n",
            "[6,  2000] loss: 0.688\n",
            "[6,  4000] loss: 0.692\n",
            "[6,  6000] loss: 0.704\n",
            "[6,  8000] loss: 0.684\n",
            "[6, 10000] loss: 0.694\n",
            "[6, 12000] loss: 0.690\n",
            "[7,  2000] loss: 0.692\n",
            "[7,  4000] loss: 0.693\n",
            "[7,  6000] loss: 0.690\n",
            "[7,  8000] loss: 0.692\n",
            "[7, 10000] loss: 0.687\n",
            "[7, 12000] loss: 0.684\n",
            "[8,  2000] loss: 0.682\n",
            "[8,  4000] loss: 0.691\n",
            "[8,  6000] loss: 0.688\n",
            "[8,  8000] loss: 0.705\n",
            "[8, 10000] loss: 0.687\n",
            "[8, 12000] loss: 0.681\n",
            "[9,  2000] loss: 0.689\n",
            "[9,  4000] loss: 0.691\n",
            "[9,  6000] loss: 0.689\n",
            "[9,  8000] loss: 0.692\n",
            "[9, 10000] loss: 0.694\n",
            "[9, 12000] loss: 0.684\n",
            "[10,  2000] loss: 0.672\n",
            "[10,  4000] loss: 0.685\n",
            "[10,  6000] loss: 0.706\n",
            "[10,  8000] loss: 0.703\n",
            "[10, 10000] loss: 0.669\n",
            "[10, 12000] loss: 0.696\n",
            "Accuracy of the network on the 10000 test images: 66 %\n"
          ],
          "name": "stdout"
        }
      ]
    },
    {
      "cell_type": "code",
      "metadata": {
        "colab_type": "code",
        "id": "UknSRVu8j-hN",
        "colab": {
          "base_uri": "https://localhost:8080/",
          "height": 287
        },
        "outputId": "efe8ccd6-3b7e-4018-b66e-7c15154e577d"
      },
      "source": [
        "plt.plot(losses_adagrad_0001)"
      ],
      "execution_count": 16,
      "outputs": [
        {
          "output_type": "execute_result",
          "data": {
            "text/plain": [
              "[<matplotlib.lines.Line2D at 0x7f27889e33c8>]"
            ]
          },
          "metadata": {
            "tags": []
          },
          "execution_count": 16
        },
        {
          "output_type": "display_data",
          "data": {
            "image/png": "[encoded data removed]",
            "text/plain": [
              "<Figure size 432x288 with 1 Axes>"
            ]
          },
          "metadata": {
            "tags": []
          }
        }
      ]
    },
    {
      "cell_type": "markdown",
      "metadata": {
        "colab_type": "text",
        "id": "BogPOLlij-hR"
      },
      "source": [
        "## RMSprop\n",
        "\n",
        "torch.optim.RMSprop(params, lr=0.01, alpha=0.99, eps=1e-08, weight_decay=0, momentum=0, centered=False)\n",
        "\n",
        "The RMSprop optimizer is similar to the gradient descent algorithm with momentum. The RMSprop optimizer restricts the oscillations in the vertical direction. Therefore, we can increase our learning rate and our algorithm could take larger steps in the horizontal direction converging faster. "
      ]
    },
    {
      "cell_type": "code",
      "metadata": {
        "colab_type": "code",
        "id": "fmEa7ciuj-hR",
        "scrolled": true,
        "colab": {
          "base_uri": "https://localhost:8080/",
          "height": 1000
        },
        "outputId": "75aea7d9-81ff-4094-9183-e9ea8db81349"
      },
      "source": [
        "#Learning_rate = 0.01\n",
        "#alpha=0.99\n",
        "# eps=1e-08\n",
        "# weight_decay=0\n",
        "# momentum=0.9\n",
        "# losses_RMSprop_0001 = train(optim.RMSprop,0.01,0.99,1e-08,0,0.9,False)\n",
        "optimizer = torch.optim.RMSprop(net.parameters(), lr = 0.0001, momentum=0.9)\n",
        "losses_RMSprop_0001 = train()"
      ],
      "execution_count": 17,
      "outputs": [
        {
          "output_type": "stream",
          "text": [
            "[1,  2000] loss: 1.342\n",
            "[1,  4000] loss: 1.246\n",
            "[1,  6000] loss: 1.248\n",
            "[1,  8000] loss: 1.226\n",
            "[1, 10000] loss: 1.209\n",
            "[1, 12000] loss: 1.202\n",
            "[2,  2000] loss: 1.115\n",
            "[2,  4000] loss: 1.140\n",
            "[2,  6000] loss: 1.161\n",
            "[2,  8000] loss: 1.161\n",
            "[2, 10000] loss: 1.155\n",
            "[2, 12000] loss: 1.131\n",
            "[3,  2000] loss: 1.072\n",
            "[3,  4000] loss: 1.083\n",
            "[3,  6000] loss: 1.114\n",
            "[3,  8000] loss: 1.109\n",
            "[3, 10000] loss: 1.082\n",
            "[3, 12000] loss: 1.137\n",
            "[4,  2000] loss: 1.053\n",
            "[4,  4000] loss: 1.074\n",
            "[4,  6000] loss: 1.061\n",
            "[4,  8000] loss: 1.087\n",
            "[4, 10000] loss: 1.088\n",
            "[4, 12000] loss: 1.134\n",
            "[5,  2000] loss: 1.006\n",
            "[5,  4000] loss: 1.047\n",
            "[5,  6000] loss: 1.049\n",
            "[5,  8000] loss: 1.104\n",
            "[5, 10000] loss: 1.070\n",
            "[5, 12000] loss: 1.084\n",
            "[6,  2000] loss: 1.011\n",
            "[6,  4000] loss: 1.019\n",
            "[6,  6000] loss: 1.051\n",
            "[6,  8000] loss: 1.030\n",
            "[6, 10000] loss: 1.096\n",
            "[6, 12000] loss: 1.091\n",
            "[7,  2000] loss: 0.989\n",
            "[7,  4000] loss: 1.006\n",
            "[7,  6000] loss: 1.057\n",
            "[7,  8000] loss: 1.044\n",
            "[7, 10000] loss: 1.046\n",
            "[7, 12000] loss: 1.075\n",
            "[8,  2000] loss: 0.961\n",
            "[8,  4000] loss: 1.036\n",
            "[8,  6000] loss: 1.004\n",
            "[8,  8000] loss: 1.026\n",
            "[8, 10000] loss: 1.068\n",
            "[8, 12000] loss: 1.049\n",
            "[9,  2000] loss: 0.987\n",
            "[9,  4000] loss: 1.016\n",
            "[9,  6000] loss: 1.000\n",
            "[9,  8000] loss: 1.030\n",
            "[9, 10000] loss: 1.052\n",
            "[9, 12000] loss: 1.026\n",
            "[10,  2000] loss: 0.976\n",
            "[10,  4000] loss: 0.985\n",
            "[10,  6000] loss: 0.983\n",
            "[10,  8000] loss: 1.091\n",
            "[10, 10000] loss: 1.025\n",
            "[10, 12000] loss: 1.045\n",
            "Accuracy of the network on the 10000 test images: 62 %\n"
          ],
          "name": "stdout"
        }
      ]
    },
    {
      "cell_type": "code",
      "metadata": {
        "colab_type": "code",
        "id": "3SzsFS7qj-hU",
        "colab": {
          "base_uri": "https://localhost:8080/",
          "height": 287
        },
        "outputId": "1b4b188a-3e2e-4713-ab8c-62a05f776d64"
      },
      "source": [
        "plt.plot(losses_RMSprop_0001)"
      ],
      "execution_count": 18,
      "outputs": [
        {
          "output_type": "execute_result",
          "data": {
            "text/plain": [
              "[<matplotlib.lines.Line2D at 0x7f27858e1080>]"
            ]
          },
          "metadata": {
            "tags": []
          },
          "execution_count": 18
        },
        {
          "output_type": "display_data",
          "data": {
            "image/png": "[encoded data removed]",
            "text/plain": [
              "<Figure size 432x288 with 1 Axes>"
            ]
          },
          "metadata": {
            "tags": []
          }
        }
      ]
    },
    {
      "cell_type": "markdown",
      "metadata": {
        "colab_type": "text",
        "id": "Cx4CFHf1j-hY"
      },
      "source": [
        "### Comparision of all losses:"
      ]
    },
    {
      "cell_type": "code",
      "metadata": {
        "colab_type": "code",
        "id": "dkmqY6MJj-hZ",
        "colab": {
          "base_uri": "https://localhost:8080/",
          "height": 287
        },
        "outputId": "5962c380-c11d-4b5b-d3ad-16cd06c6aafc"
      },
      "source": [
        "plt.plot(losses_sgd_01)\n",
        "plt.plot(losses)\n",
        "plt.plot(losses_adagrad_0001)\n",
        "plt.plot(losses_adam_0001)\n",
        "plt.plot(losses_RMSprop_0001)\n",
        "plt.legend(['SGD without momentum','SGD with momentum','AdaGrad','Adam','RMSProp'],loc='upper right')"
      ],
      "execution_count": 19,
      "outputs": [
        {
          "output_type": "execute_result",
          "data": {
            "text/plain": [
              "<matplotlib.legend.Legend at 0x7f278593fba8>"
            ]
          },
          "metadata": {
            "tags": []
          },
          "execution_count": 19
        },
        {
          "output_type": "display_data",
          "data": {
            "image/png": "[encoded data removed]",
            "text/plain": [
              "<Figure size 432x288 with 1 Axes>"
            ]
          },
          "metadata": {
            "tags": []
          }
        }
      ]
    },
    {
      "cell_type": "code",
      "metadata": {
        "colab_type": "code",
        "id": "o4hnPPPOj-hc",
        "colab": {}
      },
      "source": [
        ""
      ],
      "execution_count": 0,
      "outputs": []
    }
  ]
}