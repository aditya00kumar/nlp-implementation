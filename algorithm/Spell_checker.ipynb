{
 "cells": [
  {
   "cell_type": "markdown",
   "metadata": {
    "pycharm": {
     "metadata": false
    }
   },
   "source": [
    "## Levenshtein Edit Distance\n",
    "example edit_distance('apple', 'aplet') = 2\n",
    "Edit distance can be recursively defined as \n"
   ]
  },
  {
   "cell_type": "code",
   "execution_count": null,
   "metadata": {
    "pycharm": {
     "metadata": false,
     "name": "#%%\n"
    }
   },
   "outputs": [],
   "source": [
    "def edit_distance(source, target):\n",
    "    \"\"\"\n",
    "    Function to calculate edit distance between two strings using replace, delete and transform operations\n",
    "    :param source: Source string\n",
    "    :param target: Target string\n",
    "    :return: Integer denoting minumum distance\n",
    "    \"\"\"\n",
    "    dp = [[0 for _ in range(len(source)+1)] for _ in range(len(target)+1)]\n",
    "    for i in range(len(source)+1):\n",
    "        dp[0][i]=i\n",
    "    for j in range(len(target)+1):\n",
    "        dp[j][0]=j\n",
    "    for i in range(1, len(target)+1):\n",
    "        for j in range(1, len(source)+1):\n",
    "            if source[j-1]==target[i-1]:\n",
    "                dp[i][j]=dp[i-1][j-1]\n",
    "            else:\n",
    "                dp[i][j] = min(dp[i][j-1], dp[i-1][j], dp[i-1][j-1])+1\n",
    "    return dp[-1][-1]"
   ]
  },
  {
   "cell_type": "code",
   "execution_count": null,
   "metadata": {},
   "outputs": [],
   "source": [
    "edit_distance('apple', 'aplet')"
   ]
  },
  {
   "cell_type": "code",
   "execution_count": null,
   "metadata": {},
   "outputs": [],
   "source": []
  },
  {
   "cell_type": "code",
   "execution_count": null,
   "metadata": {},
   "outputs": [],
   "source": []
  }
 ],
 "metadata": {
  "kernelspec": {
   "display_name": "Python 3",
   "language": "python",
   "name": "python3"
  },
  "language_info": {
   "codemirror_mode": {
    "name": "ipython",
    "version": 3
   },
   "file_extension": ".py",
   "mimetype": "text/x-python",
   "name": "python",
   "nbconvert_exporter": "python",
   "pygments_lexer": "ipython3",
   "version": "3.7.1"
  },
  "stem_cell": {
   "cell_type": "raw",
   "metadata": {
    "pycharm": {
     "metadata": false
    }
   },
   "source": ""
  }
 },
 "nbformat": 4,
 "nbformat_minor": 1
}
