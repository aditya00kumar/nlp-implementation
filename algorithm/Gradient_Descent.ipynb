{
 "cells": [
  {
   "cell_type": "markdown",
   "metadata": {},
   "source": [
    "### Implementation of gradient descent and some of its variations"
   ]
  },
  {
   "cell_type": "markdown",
   "metadata": {},
   "source": [
    "#### Objective: Find the minima of any given function"
   ]
  },
  {
   "cell_type": "markdown",
   "metadata": {},
   "source": [
    "Lets suppose f(x) is:\n",
    "$$f(x) = x^3+2*x+1$$\n",
    "$$f(x) = x^4*sin(x)$$\n"
   ]
  },
  {
   "cell_type": "code",
   "execution_count": 5,
   "metadata": {},
   "outputs": [],
   "source": [
    "from math import sin"
   ]
  },
  {
   "cell_type": "markdown",
   "metadata": {},
   "source": [
    "For any given function, we need to calculate its derivative, to find the minima.\n",
    "Derivative calculation can be done using following methods\n",
    "1. Calculate derivative by hand and just substitute in the formula\n",
    "2. Method of finite differentiation\n",
    "$$f'(x)=\\lim _{{h\\to 0}}{f(x+h)-f(x) \\over h}$$\n",
    "3. Symbolic differentiation\n",
    "$$f'(x)=\\lim _{{h\\to 0}}{f(x+h)-f(x-h) \\over 2h}$$\n",
    "\n",
    "In practice it turns out that symbolic differentiation performs better as value of y->0\n"
   ]
  },
  {
   "cell_type": "markdown",
   "metadata": {},
   "source": [
    "### Define functions and its derivative function"
   ]
  },
  {
   "cell_type": "code",
   "execution_count": 94,
   "metadata": {},
   "outputs": [],
   "source": [
    "# function = lambda x: x**4 * sin(x)\n",
    "function = lambda x: (x**3)+(2*x)+1\n",
    "function = lambda x: x**3 - 6*(x**2) + 4*x + 12\n",
    "function = lambda x: (x+5)**2"
   ]
  },
  {
   "cell_type": "code",
   "execution_count": 101,
   "metadata": {},
   "outputs": [],
   "source": [
    "def derivative_function(x):\n",
    "    h = 1e-4\n",
    "    return (function(x+h)-function(x-h))/2*h"
   ]
  },
  {
   "cell_type": "code",
   "execution_count": 96,
   "metadata": {},
   "outputs": [
    {
     "data": {
      "text/plain": [
       "9.999999999621423e-10"
      ]
     },
     "execution_count": 96,
     "metadata": {},
     "output_type": "execute_result"
    }
   ],
   "source": [
    "derivative_function(0)"
   ]
  },
  {
   "cell_type": "markdown",
   "metadata": {},
   "source": [
    "## Algorithm\n",
    "1. Initialize params, initial point to start with i.e. \n",
    "   - $X_0 = randint(a,b)$\n",
    "   - $learning\\_rate = 0.01$\n",
    "   - $precision = 0.000001$ #This tells us when to stop the algorithm once learning stops between sucessive steps\n",
    "   - $max\\_iterations = 10000 $\n",
    "   - $step\\_size = 1$\n",
    "2. update x until precision is reached or max_iteration completed $$X = X_0 - learning\\_rate *(dy/dx)$$"
   ]
  },
  {
   "cell_type": "code",
   "execution_count": 97,
   "metadata": {},
   "outputs": [],
   "source": [
    "x = 6\n",
    "learning_rate =0.01\n",
    "precision = 0.000001\n",
    "max_iteration = 10000\n",
    "step_size = 1"
   ]
  },
  {
   "cell_type": "code",
   "execution_count": 103,
   "metadata": {},
   "outputs": [],
   "source": [
    "cur_x = 1 # The algorithm starts at x=3\n",
    "rate = 0.5 # Learning rate\n",
    "precision = 0.0001 #This tells us when to stop the algorithm\n",
    "previous_step_size = 3 #\n",
    "max_iters = 10000 # maximum number of iterations\n",
    "iters = 0 #iteration counter"
   ]
  },
  {
   "cell_type": "code",
   "execution_count": 105,
   "metadata": {},
   "outputs": [
    {
     "name": "stdout",
     "output_type": "stream",
     "text": [
      "Iteration 1 \n",
      "X value is 0.99999994\n",
      "The local minimum occurs at 0.99999994\n"
     ]
    }
   ],
   "source": [
    "while previous_step_size > precision and iters < max_iters:\n",
    "    prev_x = cur_x #Store current x value in prev_x\n",
    "    cur_x = cur_x - rate * derivative_function(prev_x) #Grad descent\n",
    "    previous_step_size = abs(cur_x - prev_x) #Change in x\n",
    "    iters = iters+1 #iteration count\n",
    "    print(\"Iteration\",iters,\"\\nX value is\",cur_x) #Print iterations\n",
    "    \n",
    "print(\"The local minimum occurs at\", cur_x)"
   ]
  },
  {
   "cell_type": "code",
   "execution_count": null,
   "metadata": {},
   "outputs": [],
   "source": []
  }
 ],
 "metadata": {
  "kernelspec": {
   "display_name": "Python 3",
   "language": "python",
   "name": "python3"
  },
  "language_info": {
   "codemirror_mode": {
    "name": "ipython",
    "version": 3
   },
   "file_extension": ".py",
   "mimetype": "text/x-python",
   "name": "python",
   "nbconvert_exporter": "python",
   "pygments_lexer": "ipython3",
   "version": "3.7.1"
  }
 },
 "nbformat": 4,
 "nbformat_minor": 2
}
